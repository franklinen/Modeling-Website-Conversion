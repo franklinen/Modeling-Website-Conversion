{
 "cells": [
  {
   "cell_type": "markdown",
   "metadata": {},
   "source": [
    "#### Import Libraries and Dataset"
   ]
  },
  {
   "cell_type": "code",
   "execution_count": 1,
   "metadata": {},
   "outputs": [],
   "source": [
    "#Libraries and environment\n",
    "import os\n",
    "os.chdir(r'C:\\Users\\MAIN\\Desktop\\Data Science intern File')\n",
    "os.getcwd()\n",
    "\n",
    "#import packages\n",
    "import numpy as np\n",
    "import pandas as pd\n",
    "from sklearn import preprocessing\n",
    "import matplotlib.pyplot as plt\n",
    "plt.interactive(False)\n",
    "import seaborn as sns\n",
    "plt.style.use(\"ggplot\")\n",
    "%matplotlib inline\n",
    "from pylab import rcParams\n",
    "plt.rc(\"font\", size=14)\n",
    "from sklearn.linear_model import LogisticRegression\n",
    "from sklearn.model_selection import train_test_split\n",
    "import seaborn as sns\n",
    "sns.set(style=\"white\")\n",
    "sns.set(style=\"whitegrid\", color_codes=True)"
   ]
  },
  {
   "cell_type": "code",
   "execution_count": 2,
   "metadata": {},
   "outputs": [
    {
     "name": "stderr",
     "output_type": "stream",
     "text": [
      "C:\\Users\\MAIN\\AnacondaProjects\\lib\\site-packages\\IPython\\core\\interactiveshell.py:3049: DtypeWarning: Columns (0) have mixed types. Specify dtype option on import or set low_memory=False.\n",
      "  interactivity=interactivity, compiler=compiler, result=result)\n"
     ]
    },
    {
     "name": "stdout",
     "output_type": "stream",
     "text": [
      "(392892, 15)\n",
      "['fullVisitorID', 'visitNumber', 'date', 'bounces', 'hits', 'pageviews', 'timeOnSite', 'transactionRevenue', 'transactions', 'source', 'channelGrouping', 'browser', 'deviceCategory', 'country', 'city']\n"
     ]
    }
   ],
   "source": [
    "#import dataset\n",
    "df = pd.read_csv(\"data.csv\", na_values= \" \")\n",
    "print(df.shape)\n",
    "print(list(df.columns))"
   ]
  },
  {
   "cell_type": "code",
   "execution_count": 3,
   "metadata": {},
   "outputs": [
    {
     "name": "stdout",
     "output_type": "stream",
     "text": [
      "         fullVisitorID  visitNumber      date  bounces  hits  pageviews  \\\n",
      "0  8533875475515924645            1  20170205      1.0     1        1.0   \n",
      "1  4874599869430831185            2  20170205      1.0     1        1.0   \n",
      "2   361954421372951638            1  20170205      1.0     1        1.0   \n",
      "3  8751850432978942600            2  20170205      1.0     1        1.0   \n",
      "4  2451058030378352110            1  20170205      1.0     1        1.0   \n",
      "\n",
      "   timeOnSite  transactionRevenue  transactions    source channelGrouping  \\\n",
      "0         NaN                 NaN           NaN  (direct)  Organic Search   \n",
      "1         NaN                 NaN           NaN  (direct)  Organic Search   \n",
      "2         NaN                 NaN           NaN  (direct)  Organic Search   \n",
      "3         NaN                 NaN           NaN      bing  Organic Search   \n",
      "4         NaN                 NaN           NaN  (direct)  Organic Search   \n",
      "\n",
      "  browser deviceCategory        country                           city  \n",
      "0  Chrome        desktop      Australia                         Sydney  \n",
      "1  Chrome         mobile         Turkey                       Istanbul  \n",
      "2  Chrome        desktop         Russia                         Moscow  \n",
      "3    Edge        desktop  United States  not available in demo dataset  \n",
      "4  Chrome        desktop      Indonesia  not available in demo dataset  \n",
      "         visitNumber          date   bounces           hits      pageviews  \\\n",
      "count  392892.000000  3.928920e+05  195964.0  392892.000000  392856.000000   \n",
      "mean        2.361198  2.017037e+07       1.0       4.414065       3.771015   \n",
      "std        10.158865  1.692571e+02       0.0       8.555069       6.414908   \n",
      "min         1.000000  2.017010e+07       1.0       1.000000       1.000000   \n",
      "25%         1.000000  2.017022e+07       1.0       1.000000       1.000000   \n",
      "50%         1.000000  2.017033e+07       1.0       2.000000       1.000000   \n",
      "75%         1.000000  2.017052e+07       1.0       4.000000       4.000000   \n",
      "max       389.000000  2.017063e+07       1.0     500.000000     466.000000   \n",
      "\n",
      "          timeOnSite  transactionRevenue  transactions  \n",
      "count  196399.000000         5277.000000   5277.000000  \n",
      "mean      276.837127          162.838217      1.047754  \n",
      "std       485.765241          898.877951      0.571294  \n",
      "min         1.000000            2.200000      1.000000  \n",
      "25%        33.000000           29.180000      1.000000  \n",
      "50%        94.000000           53.950000      1.000000  \n",
      "75%       287.000000          114.530000      1.000000  \n",
      "max     12136.000000        47082.060000     25.000000  \n",
      "fullVisitorID          object\n",
      "visitNumber             int64\n",
      "date                    int64\n",
      "bounces               float64\n",
      "hits                    int64\n",
      "pageviews             float64\n",
      "timeOnSite            float64\n",
      "transactionRevenue    float64\n",
      "transactions          float64\n",
      "source                 object\n",
      "channelGrouping        object\n",
      "browser                object\n",
      "deviceCategory         object\n",
      "country                object\n",
      "city                   object\n",
      "dtype: object\n"
     ]
    }
   ],
   "source": [
    "#basic dataset exploration\n",
    "print(df.head(n=5)) \n",
    "print(df.describe())  \n",
    "print(df.dtypes)  #datatypes of the individual columns"
   ]
  },
  {
   "cell_type": "markdown",
   "metadata": {},
   "source": [
    "## Exploratory Data Analysis"
   ]
  },
  {
   "cell_type": "code",
   "execution_count": 4,
   "metadata": {},
   "outputs": [
    {
     "data": {
      "image/png": "[encoded data removed]",
      "text/plain": [
       "<Figure size 432x288 with 1 Axes>"
      ]
     },
     "metadata": {
      "needs_background": "light"
     },
     "output_type": "display_data"
    }
   ],
   "source": [
    "#Channel with the highest number of transactions\n",
    "df.groupby('channelGrouping')['transactions'].nunique().plot(kind='bar')\n",
    "plt.show()"
   ]
  },
  {
   "cell_type": "code",
   "execution_count": 5,
   "metadata": {},
   "outputs": [
    {
     "data": {
      "text/plain": [
       "<matplotlib.axes._subplots.AxesSubplot at 0x290da6db080>"
      ]
     },
     "execution_count": 5,
     "metadata": {},
     "output_type": "execute_result"
    },
    {
     "data": {
      "image/png": "[encoded data removed]",
      "text/plain": [
       "<Figure size 432x288 with 1 Axes>"
      ]
     },
     "metadata": {
      "needs_background": "light"
     },
     "output_type": "display_data"
    }
   ],
   "source": [
    "#Top visitors with highest transaction numbers and number of visits. No strong correlation between sum transactions and number of visits\n",
    "df.groupby(['fullVisitorID']).agg({'transactions':'sum', 'visitNumber':'count'}).sort_values(by= ['transactions','visitNumber'], ascending=False)[:10].plot(kind='bar')"
   ]
  },
  {
   "cell_type": "code",
   "execution_count": 6,
   "metadata": {},
   "outputs": [
    {
     "data": {
      "image/png": "[encoded data removed]",
      "text/plain": [
       "<Figure size 432x288 with 1 Axes>"
      ]
     },
     "metadata": {
      "needs_background": "light"
     },
     "output_type": "display_data"
    }
   ],
   "source": [
    "#Device type with highest average timeOnsite\n",
    "#there is a need to optimise the website mobile and tablet view so its easier to scroll through the products online annd \n",
    "df.groupby(['deviceCategory']).agg({'timeOnSite':'mean'}).sort_values(by= ['timeOnSite'], ascending=False).plot(kind='bar')\n",
    "plt.show()"
   ]
  },
  {
   "cell_type": "code",
   "execution_count": 7,
   "metadata": {},
   "outputs": [
    {
     "data": {
      "text/plain": [
       "<matplotlib.axes._subplots.AxesSubplot at 0x290da7fdf60>"
      ]
     },
     "execution_count": 7,
     "metadata": {},
     "output_type": "execute_result"
    },
    {
     "data": {
      "image/png": "[encoded data removed]",
      "text/plain": [
       "<Figure size 432x288 with 1 Axes>"
      ]
     },
     "metadata": {
      "needs_background": "light"
     },
     "output_type": "display_data"
    }
   ],
   "source": [
    "#Top countries with highest mean number of transactions\n",
    "df.groupby(['country']).agg({'transactions':'mean'}).sort_values(by= ['transactions'], ascending=False)[:10].plot(kind='barh')"
   ]
  },
  {
   "cell_type": "code",
   "execution_count": 8,
   "metadata": {},
   "outputs": [
    {
     "data": {
      "text/plain": [
       "<matplotlib.axes._subplots.AxesSubplot at 0x290da877a90>"
      ]
     },
     "execution_count": 8,
     "metadata": {},
     "output_type": "execute_result"
    },
    {
     "data": {
      "image/png": "[encoded data removed]",
      "text/plain": [
       "<Figure size 432x288 with 1 Axes>"
      ]
     },
     "metadata": {
      "needs_background": "light"
     },
     "output_type": "display_data"
    }
   ],
   "source": [
    "#Top countries with highest number of transactions\n",
    "df.groupby(['country']).agg({'transactions':'sum'}).sort_values(by= ['transactions'], ascending=False)[:10].plot(kind='barh')"
   ]
  },
  {
   "cell_type": "code",
   "execution_count": 9,
   "metadata": {},
   "outputs": [
    {
     "data": {
      "text/html": [
       "<div>\n",
       "<style scoped>\n",
       "    .dataframe tbody tr th:only-of-type {\n",
       "        vertical-align: middle;\n",
       "    }\n",
       "\n",
       "    .dataframe tbody tr th {\n",
       "        vertical-align: top;\n",
       "    }\n",
       "\n",
       "    .dataframe thead th {\n",
       "        text-align: right;\n",
       "    }\n",
       "</style>\n",
       "<table border=\"1\" class=\"dataframe\">\n",
       "  <thead>\n",
       "    <tr style=\"text-align: right;\">\n",
       "      <th></th>\n",
       "      <th>visitNumber</th>\n",
       "      <th>date</th>\n",
       "      <th>bounces</th>\n",
       "      <th>hits</th>\n",
       "      <th>pageviews</th>\n",
       "      <th>timeOnSite</th>\n",
       "      <th>transactionRevenue</th>\n",
       "      <th>transactions</th>\n",
       "    </tr>\n",
       "    <tr>\n",
       "      <th>deviceCategory</th>\n",
       "      <th></th>\n",
       "      <th></th>\n",
       "      <th></th>\n",
       "      <th></th>\n",
       "      <th></th>\n",
       "      <th></th>\n",
       "      <th></th>\n",
       "      <th></th>\n",
       "    </tr>\n",
       "  </thead>\n",
       "  <tbody>\n",
       "    <tr>\n",
       "      <th>desktop</th>\n",
       "      <td>2.703157</td>\n",
       "      <td>2.017036e+07</td>\n",
       "      <td>1.0</td>\n",
       "      <td>4.758731</td>\n",
       "      <td>4.021520</td>\n",
       "      <td>294.085182</td>\n",
       "      <td>172.637229</td>\n",
       "      <td>1.051175</td>\n",
       "    </tr>\n",
       "    <tr>\n",
       "      <th>mobile</th>\n",
       "      <td>1.635644</td>\n",
       "      <td>2.017037e+07</td>\n",
       "      <td>1.0</td>\n",
       "      <td>3.621706</td>\n",
       "      <td>3.183043</td>\n",
       "      <td>234.648228</td>\n",
       "      <td>62.964645</td>\n",
       "      <td>1.014670</td>\n",
       "    </tr>\n",
       "    <tr>\n",
       "      <th>tablet</th>\n",
       "      <td>1.612387</td>\n",
       "      <td>2.017036e+07</td>\n",
       "      <td>1.0</td>\n",
       "      <td>4.098486</td>\n",
       "      <td>3.629006</td>\n",
       "      <td>244.911757</td>\n",
       "      <td>60.288033</td>\n",
       "      <td>1.000000</td>\n",
       "    </tr>\n",
       "  </tbody>\n",
       "</table>\n",
       "</div>"
      ],
      "text/plain": [
       "                visitNumber          date  bounces      hits  pageviews  \\\n",
       "deviceCategory                                                            \n",
       "desktop            2.703157  2.017036e+07      1.0  4.758731   4.021520   \n",
       "mobile             1.635644  2.017037e+07      1.0  3.621706   3.183043   \n",
       "tablet             1.612387  2.017036e+07      1.0  4.098486   3.629006   \n",
       "\n",
       "                timeOnSite  transactionRevenue  transactions  \n",
       "deviceCategory                                                \n",
       "desktop         294.085182          172.637229      1.051175  \n",
       "mobile          234.648228           62.964645      1.014670  \n",
       "tablet          244.911757           60.288033      1.000000  "
      ]
     },
     "execution_count": 9,
     "metadata": {},
     "output_type": "execute_result"
    }
   ],
   "source": [
    "df.groupby('deviceCategory').mean()"
   ]
  },
  {
   "cell_type": "code",
   "execution_count": 10,
   "metadata": {},
   "outputs": [
    {
     "data": {
      "text/html": [
       "<div>\n",
       "<style scoped>\n",
       "    .dataframe tbody tr th:only-of-type {\n",
       "        vertical-align: middle;\n",
       "    }\n",
       "\n",
       "    .dataframe tbody tr th {\n",
       "        vertical-align: top;\n",
       "    }\n",
       "\n",
       "    .dataframe thead th {\n",
       "        text-align: right;\n",
       "    }\n",
       "</style>\n",
       "<table border=\"1\" class=\"dataframe\">\n",
       "  <thead>\n",
       "    <tr style=\"text-align: right;\">\n",
       "      <th></th>\n",
       "      <th>visitNumber</th>\n",
       "      <th>date</th>\n",
       "      <th>bounces</th>\n",
       "      <th>hits</th>\n",
       "      <th>pageviews</th>\n",
       "      <th>timeOnSite</th>\n",
       "      <th>transactionRevenue</th>\n",
       "      <th>transactions</th>\n",
       "    </tr>\n",
       "    <tr>\n",
       "      <th>channelGrouping</th>\n",
       "      <th></th>\n",
       "      <th></th>\n",
       "      <th></th>\n",
       "      <th></th>\n",
       "      <th></th>\n",
       "      <th></th>\n",
       "      <th></th>\n",
       "      <th></th>\n",
       "    </tr>\n",
       "  </thead>\n",
       "  <tbody>\n",
       "    <tr>\n",
       "      <th>(Other)</th>\n",
       "      <td>4.513274</td>\n",
       "      <td>2.017040e+07</td>\n",
       "      <td>1.0</td>\n",
       "      <td>4.610619</td>\n",
       "      <td>3.849558</td>\n",
       "      <td>226.781250</td>\n",
       "      <td>11.990000</td>\n",
       "      <td>1.000000</td>\n",
       "    </tr>\n",
       "    <tr>\n",
       "      <th>Affiliates</th>\n",
       "      <td>1.792703</td>\n",
       "      <td>2.017037e+07</td>\n",
       "      <td>1.0</td>\n",
       "      <td>2.890165</td>\n",
       "      <td>2.540210</td>\n",
       "      <td>331.921592</td>\n",
       "      <td>20.480000</td>\n",
       "      <td>1.000000</td>\n",
       "    </tr>\n",
       "    <tr>\n",
       "      <th>Direct</th>\n",
       "      <td>2.609688</td>\n",
       "      <td>2.017037e+07</td>\n",
       "      <td>1.0</td>\n",
       "      <td>4.345957</td>\n",
       "      <td>3.720820</td>\n",
       "      <td>295.157086</td>\n",
       "      <td>219.199933</td>\n",
       "      <td>1.090562</td>\n",
       "    </tr>\n",
       "    <tr>\n",
       "      <th>Display</th>\n",
       "      <td>14.942524</td>\n",
       "      <td>2.017032e+07</td>\n",
       "      <td>1.0</td>\n",
       "      <td>6.386408</td>\n",
       "      <td>5.318835</td>\n",
       "      <td>328.412415</td>\n",
       "      <td>1863.974844</td>\n",
       "      <td>1.093750</td>\n",
       "    </tr>\n",
       "    <tr>\n",
       "      <th>Organic Search</th>\n",
       "      <td>2.035613</td>\n",
       "      <td>2.017038e+07</td>\n",
       "      <td>1.0</td>\n",
       "      <td>4.350251</td>\n",
       "      <td>3.722361</td>\n",
       "      <td>271.529078</td>\n",
       "      <td>104.146220</td>\n",
       "      <td>1.027044</td>\n",
       "    </tr>\n",
       "    <tr>\n",
       "      <th>Paid Search</th>\n",
       "      <td>2.669482</td>\n",
       "      <td>2.017038e+07</td>\n",
       "      <td>1.0</td>\n",
       "      <td>5.655901</td>\n",
       "      <td>4.796091</td>\n",
       "      <td>282.978053</td>\n",
       "      <td>108.545000</td>\n",
       "      <td>1.010309</td>\n",
       "    </tr>\n",
       "    <tr>\n",
       "      <th>Referral</th>\n",
       "      <td>3.285247</td>\n",
       "      <td>2.017038e+07</td>\n",
       "      <td>1.0</td>\n",
       "      <td>6.917998</td>\n",
       "      <td>5.744812</td>\n",
       "      <td>314.527635</td>\n",
       "      <td>137.905217</td>\n",
       "      <td>1.038595</td>\n",
       "    </tr>\n",
       "    <tr>\n",
       "      <th>Social</th>\n",
       "      <td>1.753364</td>\n",
       "      <td>2.017031e+07</td>\n",
       "      <td>1.0</td>\n",
       "      <td>2.249818</td>\n",
       "      <td>2.048685</td>\n",
       "      <td>176.310794</td>\n",
       "      <td>75.345775</td>\n",
       "      <td>1.239437</td>\n",
       "    </tr>\n",
       "  </tbody>\n",
       "</table>\n",
       "</div>"
      ],
      "text/plain": [
       "                 visitNumber          date  bounces      hits  pageviews  \\\n",
       "channelGrouping                                                            \n",
       "(Other)             4.513274  2.017040e+07      1.0  4.610619   3.849558   \n",
       "Affiliates          1.792703  2.017037e+07      1.0  2.890165   2.540210   \n",
       "Direct              2.609688  2.017037e+07      1.0  4.345957   3.720820   \n",
       "Display            14.942524  2.017032e+07      1.0  6.386408   5.318835   \n",
       "Organic Search      2.035613  2.017038e+07      1.0  4.350251   3.722361   \n",
       "Paid Search         2.669482  2.017038e+07      1.0  5.655901   4.796091   \n",
       "Referral            3.285247  2.017038e+07      1.0  6.917998   5.744812   \n",
       "Social              1.753364  2.017031e+07      1.0  2.249818   2.048685   \n",
       "\n",
       "                 timeOnSite  transactionRevenue  transactions  \n",
       "channelGrouping                                                \n",
       "(Other)          226.781250           11.990000      1.000000  \n",
       "Affiliates       331.921592           20.480000      1.000000  \n",
       "Direct           295.157086          219.199933      1.090562  \n",
       "Display          328.412415         1863.974844      1.093750  \n",
       "Organic Search   271.529078          104.146220      1.027044  \n",
       "Paid Search      282.978053          108.545000      1.010309  \n",
       "Referral         314.527635          137.905217      1.038595  \n",
       "Social           176.310794           75.345775      1.239437  "
      ]
     },
     "execution_count": 10,
     "metadata": {},
     "output_type": "execute_result"
    }
   ],
   "source": [
    "df.groupby('channelGrouping').mean()"
   ]
  },
  {
   "cell_type": "code",
   "execution_count": 11,
   "metadata": {},
   "outputs": [
    {
     "data": {
      "image/png": "[encoded data removed]",
      "text/plain": [
       "<Figure size 432x288 with 1 Axes>"
      ]
     },
     "metadata": {
      "needs_background": "light"
     },
     "output_type": "display_data"
    }
   ],
   "source": [
    "%matplotlib inline\n",
    "pd.crosstab(df.deviceCategory,df.transactions).plot(kind='bar')\n",
    "plt.title('Transaction Frequency for Device category')\n",
    "plt.xlabel('Device category')\n",
    "plt.ylabel('Frequency of Transaction')\n",
    "plt.savefig('transaction_fre_device')"
   ]
  },
  {
   "cell_type": "code",
   "execution_count": 12,
   "metadata": {},
   "outputs": [
    {
     "data": {
      "image/png": "[encoded data removed]",
      "text/plain": [
       "<Figure size 432x288 with 1 Axes>"
      ]
     },
     "metadata": {
      "needs_background": "light"
     },
     "output_type": "display_data"
    }
   ],
   "source": [
    "table=pd.crosstab(df.channelGrouping,df.transactions)\n",
    "table.div(table.sum(1).astype(float), axis=0).plot(kind='bar', stacked=True)\n",
    "plt.title('Stacked Bar Chart of channelGrouping vs transactions')\n",
    "plt.xlabel('channelGrouping')\n",
    "plt.ylabel('Proportion of Transactions')\n",
    "plt.savefig('channelGrp_vs_trn_stack')"
   ]
  },
  {
   "cell_type": "code",
   "execution_count": 13,
   "metadata": {},
   "outputs": [
    {
     "data": {
      "image/png": "[encoded data removed]",
      "text/plain": [
       "<Figure size 720x720 with 2 Axes>"
      ]
     },
     "metadata": {},
     "output_type": "display_data"
    }
   ],
   "source": [
    "#check correlation with seaborn heatmap\n",
    "sns.set_style(\"whitegrid\")\n",
    "plt.figure(figsize=(10,10))\n",
    "sns.heatmap(df.corr(), cmap='RdBu_r', annot=True, vmax=1, vmin=-1)\n",
    "plt.show()"
   ]
  },
  {
   "cell_type": "markdown",
   "metadata": {},
   "source": [
    "## Modeling"
   ]
  },
  {
   "cell_type": "markdown",
   "metadata": {},
   "source": [
    "#### check missing values for each column"
   ]
  },
  {
   "cell_type": "code",
   "execution_count": 14,
   "metadata": {},
   "outputs": [
    {
     "data": {
      "text/plain": [
       "transactions          387615\n",
       "transactionRevenue    387615\n",
       "bounces               196928\n",
       "timeOnSite            196493\n",
       "pageviews                 36\n",
       "city                       0\n",
       "country                    0\n",
       "deviceCategory             0\n",
       "browser                    0\n",
       "channelGrouping            0\n",
       "source                     0\n",
       "hits                       0\n",
       "date                       0\n",
       "visitNumber                0\n",
       "fullVisitorID              0\n",
       "dtype: int64"
      ]
     },
     "execution_count": 14,
     "metadata": {},
     "output_type": "execute_result"
    }
   ],
   "source": [
    "df.isnull().sum().sort_values(ascending=False)"
   ]
  },
  {
   "cell_type": "markdown",
   "metadata": {},
   "source": [
    "#### Handling missing values\n",
    "fill the transacion and transactionRevenue with 0. this is because we want to run a logistic regression on the conversion \n",
    "and the transaction column will be used to create the conversion column. The transactionRevenue column missing values matches\n",
    "that of the tranactions showing the abscence of transactions resulted in abscence of revenue. therefore we fill \n",
    "the transactionRevenue with 0. We fill the pageviews column with the mean of the values since the number of missing values\n",
    "is very negligible. We also fill the missing values of bounces and the timeOnSite missing values with 0."
   ]
  },
  {
   "cell_type": "code",
   "execution_count": 15,
   "metadata": {},
   "outputs": [
    {
     "data": {
      "text/html": [
       "<div>\n",
       "<style scoped>\n",
       "    .dataframe tbody tr th:only-of-type {\n",
       "        vertical-align: middle;\n",
       "    }\n",
       "\n",
       "    .dataframe tbody tr th {\n",
       "        vertical-align: top;\n",
       "    }\n",
       "\n",
       "    .dataframe thead th {\n",
       "        text-align: right;\n",
       "    }\n",
       "</style>\n",
       "<table border=\"1\" class=\"dataframe\">\n",
       "  <thead>\n",
       "    <tr style=\"text-align: right;\">\n",
       "      <th></th>\n",
       "      <th>fullVisitorID</th>\n",
       "      <th>visitNumber</th>\n",
       "      <th>date</th>\n",
       "      <th>bounces</th>\n",
       "      <th>hits</th>\n",
       "      <th>pageviews</th>\n",
       "      <th>timeOnSite</th>\n",
       "      <th>transactionRevenue</th>\n",
       "      <th>transactions</th>\n",
       "      <th>source</th>\n",
       "      <th>channelGrouping</th>\n",
       "      <th>browser</th>\n",
       "      <th>deviceCategory</th>\n",
       "      <th>country</th>\n",
       "      <th>city</th>\n",
       "    </tr>\n",
       "  </thead>\n",
       "  <tbody>\n",
       "    <tr>\n",
       "      <th>0</th>\n",
       "      <td>8533875475515924645</td>\n",
       "      <td>1</td>\n",
       "      <td>20170205</td>\n",
       "      <td>1.0</td>\n",
       "      <td>1</td>\n",
       "      <td>1.0</td>\n",
       "      <td>NaN</td>\n",
       "      <td>NaN</td>\n",
       "      <td>NaN</td>\n",
       "      <td>(direct)</td>\n",
       "      <td>Organic Search</td>\n",
       "      <td>Chrome</td>\n",
       "      <td>desktop</td>\n",
       "      <td>Australia</td>\n",
       "      <td>Sydney</td>\n",
       "    </tr>\n",
       "    <tr>\n",
       "      <th>1</th>\n",
       "      <td>4874599869430831185</td>\n",
       "      <td>2</td>\n",
       "      <td>20170205</td>\n",
       "      <td>1.0</td>\n",
       "      <td>1</td>\n",
       "      <td>1.0</td>\n",
       "      <td>NaN</td>\n",
       "      <td>NaN</td>\n",
       "      <td>NaN</td>\n",
       "      <td>(direct)</td>\n",
       "      <td>Organic Search</td>\n",
       "      <td>Chrome</td>\n",
       "      <td>mobile</td>\n",
       "      <td>Turkey</td>\n",
       "      <td>Istanbul</td>\n",
       "    </tr>\n",
       "    <tr>\n",
       "      <th>2</th>\n",
       "      <td>361954421372951638</td>\n",
       "      <td>1</td>\n",
       "      <td>20170205</td>\n",
       "      <td>1.0</td>\n",
       "      <td>1</td>\n",
       "      <td>1.0</td>\n",
       "      <td>NaN</td>\n",
       "      <td>NaN</td>\n",
       "      <td>NaN</td>\n",
       "      <td>(direct)</td>\n",
       "      <td>Organic Search</td>\n",
       "      <td>Chrome</td>\n",
       "      <td>desktop</td>\n",
       "      <td>Russia</td>\n",
       "      <td>Moscow</td>\n",
       "    </tr>\n",
       "    <tr>\n",
       "      <th>3</th>\n",
       "      <td>8751850432978942600</td>\n",
       "      <td>2</td>\n",
       "      <td>20170205</td>\n",
       "      <td>1.0</td>\n",
       "      <td>1</td>\n",
       "      <td>1.0</td>\n",
       "      <td>NaN</td>\n",
       "      <td>NaN</td>\n",
       "      <td>NaN</td>\n",
       "      <td>bing</td>\n",
       "      <td>Organic Search</td>\n",
       "      <td>Edge</td>\n",
       "      <td>desktop</td>\n",
       "      <td>United States</td>\n",
       "      <td>not available in demo dataset</td>\n",
       "    </tr>\n",
       "    <tr>\n",
       "      <th>4</th>\n",
       "      <td>2451058030378352110</td>\n",
       "      <td>1</td>\n",
       "      <td>20170205</td>\n",
       "      <td>1.0</td>\n",
       "      <td>1</td>\n",
       "      <td>1.0</td>\n",
       "      <td>NaN</td>\n",
       "      <td>NaN</td>\n",
       "      <td>NaN</td>\n",
       "      <td>(direct)</td>\n",
       "      <td>Organic Search</td>\n",
       "      <td>Chrome</td>\n",
       "      <td>desktop</td>\n",
       "      <td>Indonesia</td>\n",
       "      <td>not available in demo dataset</td>\n",
       "    </tr>\n",
       "  </tbody>\n",
       "</table>\n",
       "</div>"
      ],
      "text/plain": [
       "         fullVisitorID  visitNumber      date  bounces  hits  pageviews  \\\n",
       "0  8533875475515924645            1  20170205      1.0     1        1.0   \n",
       "1  4874599869430831185            2  20170205      1.0     1        1.0   \n",
       "2   361954421372951638            1  20170205      1.0     1        1.0   \n",
       "3  8751850432978942600            2  20170205      1.0     1        1.0   \n",
       "4  2451058030378352110            1  20170205      1.0     1        1.0   \n",
       "\n",
       "   timeOnSite  transactionRevenue  transactions    source channelGrouping  \\\n",
       "0         NaN                 NaN           NaN  (direct)  Organic Search   \n",
       "1         NaN                 NaN           NaN  (direct)  Organic Search   \n",
       "2         NaN                 NaN           NaN  (direct)  Organic Search   \n",
       "3         NaN                 NaN           NaN      bing  Organic Search   \n",
       "4         NaN                 NaN           NaN  (direct)  Organic Search   \n",
       "\n",
       "  browser deviceCategory        country                           city  \n",
       "0  Chrome        desktop      Australia                         Sydney  \n",
       "1  Chrome         mobile         Turkey                       Istanbul  \n",
       "2  Chrome        desktop         Russia                         Moscow  \n",
       "3    Edge        desktop  United States  not available in demo dataset  \n",
       "4  Chrome        desktop      Indonesia  not available in demo dataset  "
      ]
     },
     "execution_count": 15,
     "metadata": {},
     "output_type": "execute_result"
    }
   ],
   "source": [
    "df.head()"
   ]
  },
  {
   "cell_type": "code",
   "execution_count": 16,
   "metadata": {},
   "outputs": [
    {
     "data": {
      "text/plain": [
       "city                  0\n",
       "country               0\n",
       "deviceCategory        0\n",
       "browser               0\n",
       "channelGrouping       0\n",
       "source                0\n",
       "transactions          0\n",
       "transactionRevenue    0\n",
       "timeOnSite            0\n",
       "pageviews             0\n",
       "hits                  0\n",
       "bounces               0\n",
       "date                  0\n",
       "visitNumber           0\n",
       "fullVisitorID         0\n",
       "dtype: int64"
      ]
     },
     "execution_count": 16,
     "metadata": {},
     "output_type": "execute_result"
    }
   ],
   "source": [
    "df['transactions'] = df['transactions'].fillna(0)\n",
    "df['transactionRevenue'] = df['transactionRevenue'].fillna(0)\n",
    "df['bounces'] = df['bounces'].fillna(0)\n",
    "df['timeOnSite'] = df['timeOnSite'].fillna(0)\n",
    "df['pageviews'].fillna(int(df['pageviews'].mean()), inplace=True)\n",
    "df.isnull().sum().sort_values(ascending=False)"
   ]
  },
  {
   "cell_type": "code",
   "execution_count": 17,
   "metadata": {},
   "outputs": [
    {
     "data": {
      "text/plain": [
       "(392892, 15)"
      ]
     },
     "execution_count": 17,
     "metadata": {},
     "output_type": "execute_result"
    }
   ],
   "source": [
    "df.shape"
   ]
  },
  {
   "cell_type": "markdown",
   "metadata": {},
   "source": [
    "#### Feature engineering"
   ]
  },
  {
   "cell_type": "markdown",
   "metadata": {},
   "source": [
    "create a new column to show if there is conversion from the web visit and session. This will be our predctive variable"
   ]
  },
  {
   "cell_type": "code",
   "execution_count": 18,
   "metadata": {},
   "outputs": [
    {
     "data": {
      "text/plain": [
       "0    387615\n",
       "1      5277\n",
       "Name: conversion, dtype: int64"
      ]
     },
     "execution_count": 18,
     "metadata": {},
     "output_type": "execute_result"
    }
   ],
   "source": [
    "df['conversion'] = np.where(df.transactions > 0, 1, 0)\n",
    "df.conversion.value_counts()"
   ]
  },
  {
   "cell_type": "code",
   "execution_count": 19,
   "metadata": {},
   "outputs": [
    {
     "data": {
      "image/png": "[encoded data removed]",
      "text/plain": [
       "<Figure size 432x288 with 1 Axes>"
      ]
     },
     "metadata": {},
     "output_type": "display_data"
    },
    {
     "data": {
      "text/plain": [
       "<Figure size 432x288 with 0 Axes>"
      ]
     },
     "metadata": {},
     "output_type": "display_data"
    }
   ],
   "source": [
    "#Histogram of the categorical variable showing the distribution of the different classes. A close look reveals a notable class imbalance.\n",
    "sns.countplot(x='conversion',data=df, palette='hls')\n",
    "plt.show()\n",
    "plt.savefig('count_plot')"
   ]
  },
  {
   "cell_type": "code",
   "execution_count": 20,
   "metadata": {},
   "outputs": [
    {
     "data": {
      "text/plain": [
       "(392892, 16)"
      ]
     },
     "execution_count": 20,
     "metadata": {},
     "output_type": "execute_result"
    }
   ],
   "source": [
    "df.shape"
   ]
  },
  {
   "cell_type": "code",
   "execution_count": 21,
   "metadata": {},
   "outputs": [
    {
     "name": "stdout",
     "output_type": "stream",
     "text": [
      "percentage of no transaction is 98.65688280748908\n",
      "percentage of transaction 1.343117192510919\n"
     ]
    }
   ],
   "source": [
    "#Calculate percentage of transaction vs nontransaction values\n",
    "count_no_trn = len(df[df['conversion']==0])\n",
    "count_trn = len(df[df['conversion']==1])\n",
    "pct_of_no_trn = count_no_trn/(count_no_trn+count_trn)\n",
    "print(\"percentage of no transaction is\", pct_of_no_trn*100)\n",
    "pct_of_trn = count_trn/(count_no_trn+count_trn)\n",
    "print(\"percentage of transaction\", pct_of_trn*100)"
   ]
  },
  {
   "cell_type": "code",
   "execution_count": 22,
   "metadata": {},
   "outputs": [
    {
     "data": {
      "text/html": [
       "<div>\n",
       "<style scoped>\n",
       "    .dataframe tbody tr th:only-of-type {\n",
       "        vertical-align: middle;\n",
       "    }\n",
       "\n",
       "    .dataframe tbody tr th {\n",
       "        vertical-align: top;\n",
       "    }\n",
       "\n",
       "    .dataframe thead th {\n",
       "        text-align: right;\n",
       "    }\n",
       "</style>\n",
       "<table border=\"1\" class=\"dataframe\">\n",
       "  <thead>\n",
       "    <tr style=\"text-align: right;\">\n",
       "      <th></th>\n",
       "      <th>visitNumber</th>\n",
       "      <th>date</th>\n",
       "      <th>bounces</th>\n",
       "      <th>hits</th>\n",
       "      <th>pageviews</th>\n",
       "      <th>timeOnSite</th>\n",
       "      <th>transactionRevenue</th>\n",
       "      <th>transactions</th>\n",
       "    </tr>\n",
       "    <tr>\n",
       "      <th>conversion</th>\n",
       "      <th></th>\n",
       "      <th></th>\n",
       "      <th></th>\n",
       "      <th></th>\n",
       "      <th></th>\n",
       "      <th></th>\n",
       "      <th></th>\n",
       "      <th></th>\n",
       "    </tr>\n",
       "  </thead>\n",
       "  <tbody>\n",
       "    <tr>\n",
       "      <th>0</th>\n",
       "      <td>2.328886</td>\n",
       "      <td>2.017037e+07</td>\n",
       "      <td>0.505564</td>\n",
       "      <td>4.033177</td>\n",
       "      <td>3.472492</td>\n",
       "      <td>126.548124</td>\n",
       "      <td>0.000000</td>\n",
       "      <td>0.000000</td>\n",
       "    </tr>\n",
       "    <tr>\n",
       "      <th>1</th>\n",
       "      <td>4.734698</td>\n",
       "      <td>2.017039e+07</td>\n",
       "      <td>0.000000</td>\n",
       "      <td>32.391700</td>\n",
       "      <td>25.693386</td>\n",
       "      <td>1007.880235</td>\n",
       "      <td>162.838217</td>\n",
       "      <td>1.047754</td>\n",
       "    </tr>\n",
       "  </tbody>\n",
       "</table>\n",
       "</div>"
      ],
      "text/plain": [
       "            visitNumber          date   bounces       hits  pageviews  \\\n",
       "conversion                                                              \n",
       "0              2.328886  2.017037e+07  0.505564   4.033177   3.472492   \n",
       "1              4.734698  2.017039e+07  0.000000  32.391700  25.693386   \n",
       "\n",
       "             timeOnSite  transactionRevenue  transactions  \n",
       "conversion                                                 \n",
       "0            126.548124            0.000000      0.000000  \n",
       "1           1007.880235          162.838217      1.047754  "
      ]
     },
     "execution_count": 22,
     "metadata": {},
     "output_type": "execute_result"
    }
   ],
   "source": [
    "df.groupby('conversion').mean()"
   ]
  },
  {
   "cell_type": "code",
   "execution_count": 23,
   "metadata": {},
   "outputs": [
    {
     "data": {
      "text/plain": [
       "fullVisitorID          object\n",
       "visitNumber             int64\n",
       "date                    int64\n",
       "bounces               float64\n",
       "hits                    int64\n",
       "pageviews             float64\n",
       "timeOnSite            float64\n",
       "transactionRevenue    float64\n",
       "transactions          float64\n",
       "source                 object\n",
       "channelGrouping        object\n",
       "browser                object\n",
       "deviceCategory         object\n",
       "country                object\n",
       "city                   object\n",
       "conversion              int32\n",
       "dtype: object"
      ]
     },
     "execution_count": 23,
     "metadata": {},
     "output_type": "execute_result"
    }
   ],
   "source": [
    "df.dtypes"
   ]
  },
  {
   "cell_type": "markdown",
   "metadata": {},
   "source": [
    "##### Mapping of categorical variables"
   ]
  },
  {
   "cell_type": "markdown",
   "metadata": {},
   "source": [
    "#### create Dummy variables"
   ]
  },
  {
   "cell_type": "code",
   "execution_count": 24,
   "metadata": {},
   "outputs": [],
   "source": [
    "cat_vars=['source','channelGrouping','browser','deviceCategory','country','city']\n",
    "for var in cat_vars:\n",
    "    cat_list='var'+'_'+var\n",
    "    cat_list = pd.get_dummies(df[var], prefix=var)\n",
    "    df1=df.join(cat_list)\n",
    "    df=df1\n",
    "cat_vars=['source','channelGrouping','browser','deviceCategory','country','city']\n",
    "df_vars=df.columns.values.tolist()\n",
    "to_keep=[i for i in df_vars if i not in cat_vars]"
   ]
  },
  {
   "cell_type": "code",
   "execution_count": 25,
   "metadata": {},
   "outputs": [
    {
     "data": {
      "text/plain": [
       "array(['fullVisitorID', 'visitNumber', 'date', 'bounces', 'hits',\n",
       "       'pageviews', 'timeOnSite', 'transactionRevenue', 'transactions',\n",
       "       'conversion', 'source_(direct)', 'source_(not set)',\n",
       "       'source_9to5google.com', 'source_Partners',\n",
       "       'source_ad.doubleclick.net', 'source_admin.globalaccess.com',\n",
       "       'source_adwords.google.com', 'source_amazon.com',\n",
       "       'source_analytics.google.com', 'source_aol',\n",
       "       'source_apis.mail.yahoo.com', 'source_ask',\n",
       "       'source_au.search.yahoo.com', 'source_aulagrado.esic.edu',\n",
       "       'source_ausdroid.net', 'source_away.vk.com', 'source_baidu',\n",
       "       'source_baidu.com', 'source_basecamp.com', 'source_bing',\n",
       "       'source_bing.com', 'source_blackboard.towson.edu',\n",
       "       'source_blog.golang.org', 'source_blognone.com',\n",
       "       'source_br.pinterest.com', 'source_br.search.yahoo.com',\n",
       "       'source_businessinsider.com', 'source_businessinsider.in',\n",
       "       'source_ca.search.yahoo.com', 'source_cc.csusm.edu',\n",
       "       'source_centrum.cz', 'source_chat.google.com',\n",
       "       'source_cn.bing.com', 'source_collaborate.northwestern.edu',\n",
       "       'source_computerworld.com', 'source_connect.googleforwork.com',\n",
       "       'source_course.fso.fullsail.edu', 'source_csfirst.withgoogle.com',\n",
       "       'source_cv.il3.ub.edu', 'source_datastudio.google.com',\n",
       "       'source_de.pinterest.com', 'source_dealspotr.com',\n",
       "       'source_dena-design.qiita.com', 'source_desktop.google.com.ua',\n",
       "       'source_dfa', 'source_docs.google.com', 'source_duckduckgo.com',\n",
       "       'source_en.wikipedia.org', 'source_es.search.yahoo.com',\n",
       "       'source_espanol.search.yahoo.com', 'source_evernote.com',\n",
       "       'source_ex.fit.edu', 'source_facebook.com', 'source_feedly.com',\n",
       "       'source_finance.yahoo.com', 'source_flipboard.com',\n",
       "       'source_fr.search.yahoo.com', 'source_fr.yhs4.search.yahoo.com',\n",
       "       'source_getiriver.com', 'source_getpocket.com',\n",
       "       'source_gist.github.com', 'source_github.com', 'source_go.mail.ru',\n",
       "       'source_good.barkpost.com', 'source_google', 'source_google.at',\n",
       "       'source_google.ca', 'source_google.ch', 'source_google.cl',\n",
       "       'source_google.co.id', 'source_google.co.il',\n",
       "       'source_google.co.in', 'source_google.co.jp',\n",
       "       'source_google.co.kr', 'source_google.co.nz',\n",
       "       'source_google.co.th', 'source_google.co.uk',\n",
       "       'source_google.co.za', 'source_google.com', 'source_google.com.au',\n",
       "       'source_google.com.br', 'source_google.com.hk',\n",
       "       'source_google.com.mx', 'source_google.com.pe',\n",
       "       'source_google.com.ph', 'source_google.com.pk',\n",
       "       'source_google.com.tw', 'source_google.com.ua', 'source_google.de',\n",
       "       'source_google.es', 'source_google.fr', 'source_google.it',\n",
       "       'source_google.lk', 'source_google.nl', 'source_google.no',\n",
       "       'source_google.pl', 'source_google.rs', 'source_google.ru',\n",
       "       'source_googleads.g.doubleclick.net', 'source_gophergala.com',\n",
       "       'source_groups.google.com', 'source_gsuite.google.com',\n",
       "       'source_h.yandex-team.ru', 'source_hangouts.google.com',\n",
       "       'source_hk.search.yahoo.com', 'source_images.google',\n",
       "       'source_images.google.co.id', 'source_images.google.de',\n",
       "       'source_images.google.fr', 'source_images.google.ie',\n",
       "       'source_images.google.lk', 'source_images.google.lt',\n",
       "       'source_in.search.yahoo.com', 'source_inbox.google.com',\n",
       "       'source_int.search.mywebsearch.com',\n",
       "       'source_int.search.tb.ask.com', 'source_it.search.yahoo.com',\n",
       "       'source_keep.google.com', 'source_kidrex.org', 'source_kik.com',\n",
       "       'source_l.facebook.com', 'source_l.messenger.com',\n",
       "       'source_learn.colorado.edu', 'source_learn.temple.edu',\n",
       "       'source_linkedin.com', 'source_lm.facebook.com',\n",
       "       'source_lunametrics.com', 'source_m.baidu.com',\n",
       "       'source_m.facebook.com', 'source_m.reddit.com',\n",
       "       'source_m.sogou.com', 'source_m.vk.com', 'source_m.youtube.com',\n",
       "       'source_m.yz.sm.cn', 'source_mail.aol.com',\n",
       "       'source_mail.google.com', 'source_mail.verizon.com',\n",
       "       'source_maktoob.search.yahoo.com',\n",
       "       'source_malaysia.search.yahoo.com', 'source_marketingland.com',\n",
       "       'source_markets.businessinsider.com', 'source_meetup.com',\n",
       "       'source_members.s7.exacttarget.com', 'source_messenger.com',\n",
       "       'source_mg.mail.yahoo.com', 'source_msn', 'source_msn.com',\n",
       "       'source_myaccount.google.com', 'source_myactivity.google.com',\n",
       "       'source_mysearch.com', 'source_newsstand.google.com',\n",
       "       'source_nl.search.yahoo.com', 'source_nordic.businessinsider.com',\n",
       "       'source_online-metrics.com', 'source_online.fullsail.edu',\n",
       "       'source_optimize.google.com', 'source_outlook.live.com',\n",
       "       'source_ph.search.yahoo.com', 'source_phandroid.com',\n",
       "       'source_pinterest.com', 'source_plus.google.com',\n",
       "       'source_plus.url.google.com', 'source_productforums.google.com',\n",
       "       'source_ps-dm.reddit.com', 'source_qiita.com', 'source_quora.com',\n",
       "       'source_reddit.com', 'source_s0.2mdn.net',\n",
       "       'source_s7-eu4.ixquick.com', 'source_sashihara.jp',\n",
       "       'source_se.search.yahoo.com', 'source_se.yhs4.search.yahoo.com',\n",
       "       'source_search.1and1.com', 'source_search.earthlink.net',\n",
       "       'source_search.incredibar.com', 'source_search.mysearch.com',\n",
       "       'source_search.myway.com', 'source_search.snapdo.com',\n",
       "       'source_search.tb.ask.com', 'source_search.xfinity.com',\n",
       "       'source_searchlock.com', 'source_seroundtable.com',\n",
       "       'source_sg.search.yahoo.com', 'source_siliconvalley.about.com',\n",
       "       'source_sites.google.com', 'source_so.com',\n",
       "       'source_spaces.google.com', 'source_staging.talkgadget.google.com',\n",
       "       'source_start.wow.com', 'source_suche.t-online.de',\n",
       "       'source_support.google.com', 'source_t.co',\n",
       "       'source_tw.search.yahoo.com', 'source_twitter.com',\n",
       "       'source_uk.businessinsider.com', 'source_uk.search.yahoo.com',\n",
       "       'source_us.search.yahoo.com', 'source_us.wow.com',\n",
       "       'source_us.yhs4.search.yahoo.com', 'source_vk.com',\n",
       "       'source_voice.google.com', 'source_web.facebook.com',\n",
       "       'source_web.mail.comcast.net', 'source_web.skype.com',\n",
       "       'source_web.whatsapp.com', 'source_wheretoget.it', 'source_yahoo',\n",
       "       'source_yahoo.com', 'source_yandex', 'source_youtube.com',\n",
       "       'channelGrouping_(Other)', 'channelGrouping_Affiliates',\n",
       "       'channelGrouping_Direct', 'channelGrouping_Display',\n",
       "       'channelGrouping_Organic Search', 'channelGrouping_Paid Search',\n",
       "       'channelGrouping_Referral', 'channelGrouping_Social',\n",
       "       'browser_(not set)', 'browser_Amazon Silk',\n",
       "       'browser_Android Browser', 'browser_Android Runtime',\n",
       "       'browser_Android Webview', 'browser_Apple-iPhone7C2',\n",
       "       'browser_BlackBerry', 'browser_CSM Click',\n",
       "       'browser_Changa 99695759', 'browser_Chrome', 'browser_Coc Coc',\n",
       "       'browser_DASH_JR_3G', 'browser_DoCoMo', 'browser_Edge',\n",
       "       'browser_Firefox', 'browser_IE with Chrome Frame',\n",
       "       'browser_Internet Explorer', 'browser_Iron',\n",
       "       'browser_LYF_LS_4002_12', 'browser_M5', 'browser_MRCHROME',\n",
       "       'browser_Maxthon', 'browser_Mozilla',\n",
       "       'browser_Mozilla Compatible Agent', 'browser_Nintendo Browser',\n",
       "       'browser_Nokia Browser', 'browser_Opera', 'browser_Opera Mini',\n",
       "       'browser_Puffin', 'browser_Reddit', 'browser_Safari',\n",
       "       'browser_Safari (in-app)', 'browser_SeaMonkey', 'browser_Seznam',\n",
       "       'browser_UC Browser', 'browser_YE', 'browser_YaBrowser',\n",
       "       'browser_osee2unifiedRelease',\n",
       "       'browser_subjectAgent: NoticiasBoom', 'deviceCategory_desktop',\n",
       "       'deviceCategory_mobile', 'deviceCategory_tablet',\n",
       "       'country_(not set)', 'country_Afghanistan', 'country_Albania',\n",
       "       'country_Algeria', 'country_Andorra', 'country_Angola',\n",
       "       'country_Anguilla', 'country_Antigua & Barbuda',\n",
       "       'country_Argentina', 'country_Armenia', 'country_Aruba',\n",
       "       'country_Australia', 'country_Austria', 'country_Azerbaijan',\n",
       "       'country_Bahamas', 'country_Bahrain', 'country_Bangladesh',\n",
       "       'country_Barbados', 'country_Belarus', 'country_Belgium',\n",
       "       'country_Belize', 'country_Benin', 'country_Bermuda',\n",
       "       'country_Bhutan', 'country_Bolivia',\n",
       "       'country_Bosnia & Herzegovina', 'country_Botswana',\n",
       "       'country_Brazil', 'country_British Virgin Islands',\n",
       "       'country_Brunei', 'country_Bulgaria', 'country_Burkina Faso',\n",
       "       'country_Burundi', 'country_Cambodia', 'country_Cameroon',\n",
       "       'country_Canada', 'country_Cape Verde',\n",
       "       'country_Caribbean Netherlands', 'country_Cayman Islands',\n",
       "       'country_Chad', 'country_Chile', 'country_China',\n",
       "       'country_Colombia', 'country_Comoros',\n",
       "       'country_Congo - Brazzaville', 'country_Congo - Kinshasa',\n",
       "       'country_Cook Islands', 'country_Costa Rica', 'country_Croatia',\n",
       "       'country_Curaçao', 'country_Cyprus', 'country_Czechia',\n",
       "       'country_Côte d’Ivoire', 'country_Denmark', 'country_Djibouti',\n",
       "       'country_Dominica', 'country_Dominican Republic',\n",
       "       'country_Ecuador', 'country_Egypt', 'country_El Salvador',\n",
       "       'country_Eritrea', 'country_Estonia', 'country_Ethiopia',\n",
       "       'country_Faroe Islands', 'country_Fiji', 'country_Finland',\n",
       "       'country_France', 'country_French Guiana',\n",
       "       'country_French Polynesia', 'country_Gabon', 'country_Gambia',\n",
       "       'country_Georgia', 'country_Germany', 'country_Ghana',\n",
       "       'country_Gibraltar', 'country_Greece', 'country_Greenland',\n",
       "       'country_Grenada', 'country_Guadeloupe', 'country_Guam',\n",
       "       'country_Guatemala', 'country_Guernsey', 'country_Guinea',\n",
       "       'country_Guyana', 'country_Haiti', 'country_Honduras',\n",
       "       'country_Hong Kong', 'country_Hungary', 'country_Iceland',\n",
       "       'country_India', 'country_Indonesia', 'country_Iran',\n",
       "       'country_Iraq', 'country_Ireland', 'country_Isle of Man',\n",
       "       'country_Israel', 'country_Italy', 'country_Jamaica',\n",
       "       'country_Japan', 'country_Jersey', 'country_Jordan',\n",
       "       'country_Kazakhstan', 'country_Kenya', 'country_Kosovo',\n",
       "       'country_Kuwait', 'country_Kyrgyzstan', 'country_Laos',\n",
       "       'country_Latvia', 'country_Lebanon', 'country_Lesotho',\n",
       "       'country_Liberia', 'country_Libya', 'country_Liechtenstein',\n",
       "       'country_Lithuania', 'country_Luxembourg', 'country_Macau',\n",
       "       'country_Macedonia (FYROM)', 'country_Madagascar',\n",
       "       'country_Malawi', 'country_Malaysia', 'country_Maldives',\n",
       "       'country_Mali', 'country_Malta', 'country_Marshall Islands',\n",
       "       'country_Martinique', 'country_Mauritania', 'country_Mauritius',\n",
       "       'country_Mayotte', 'country_Mexico', 'country_Moldova',\n",
       "       'country_Monaco', 'country_Mongolia', 'country_Montenegro',\n",
       "       'country_Morocco', 'country_Mozambique', 'country_Myanmar (Burma)',\n",
       "       'country_Namibia', 'country_Nepal', 'country_Netherlands',\n",
       "       'country_New Caledonia', 'country_New Zealand',\n",
       "       'country_Nicaragua', 'country_Niger', 'country_Nigeria',\n",
       "       'country_Northern Mariana Islands', 'country_Norway',\n",
       "       'country_Oman', 'country_Pakistan', 'country_Palestine',\n",
       "       'country_Panama', 'country_Papua New Guinea', 'country_Paraguay',\n",
       "       'country_Peru', 'country_Philippines', 'country_Poland',\n",
       "       'country_Portugal', 'country_Puerto Rico', 'country_Qatar',\n",
       "       'country_Romania', 'country_Russia', 'country_Rwanda',\n",
       "       'country_Réunion', 'country_San Marino', 'country_Saudi Arabia',\n",
       "       'country_Senegal', 'country_Serbia', 'country_Seychelles',\n",
       "       'country_Sierra Leone', 'country_Singapore',\n",
       "       'country_Sint Maarten', 'country_Slovakia', 'country_Slovenia',\n",
       "       'country_Somalia', 'country_South Africa', 'country_South Korea',\n",
       "       'country_Spain', 'country_Sri Lanka', 'country_St. Barthélemy',\n",
       "       'country_St. Kitts & Nevis', 'country_St. Lucia',\n",
       "       'country_St. Vincent & Grenadines', 'country_Sudan',\n",
       "       'country_Suriname', 'country_Swaziland', 'country_Sweden',\n",
       "       'country_Switzerland', 'country_Syria', 'country_Taiwan',\n",
       "       'country_Tajikistan', 'country_Tanzania', 'country_Thailand',\n",
       "       'country_Timor-Leste', 'country_Togo', 'country_Trinidad & Tobago',\n",
       "       'country_Tunisia', 'country_Turkey', 'country_Turkmenistan',\n",
       "       'country_Turks & Caicos Islands', 'country_U.S. Virgin Islands',\n",
       "       'country_Uganda', 'country_Ukraine',\n",
       "       'country_United Arab Emirates', 'country_United Kingdom',\n",
       "       'country_United States', 'country_Uruguay', 'country_Uzbekistan',\n",
       "       'country_Vanuatu', 'country_Venezuela', 'country_Vietnam',\n",
       "       'country_Yemen', 'country_Zambia', 'country_Zimbabwe',\n",
       "       'country_Åland Islands', \"city_'s Hertogenbosch\", 'city_(not set)',\n",
       "       'city_Aalborg', 'city_Aalen', 'city_Adelaide', 'city_Ahmedabad',\n",
       "       'city_Akron', 'city_Alba', 'city_Alexandria', 'city_Alicante',\n",
       "       'city_Almeria', 'city_Altrincham', 'city_Amberg',\n",
       "       'city_Amersfoort', 'city_Amsterdam', 'city_Anaheim', 'city_Ankara',\n",
       "       'city_Ann Arbor', 'city_Antalya', 'city_Antwerp', 'city_Appleton',\n",
       "       'city_Arequipa', 'city_Ashburn', 'city_Athens', 'city_Atlanta',\n",
       "       'city_Auckland', 'city_Austin', 'city_Avon', 'city_Ballinger',\n",
       "       'city_Baltimore', 'city_Bandung', 'city_Bangkok', 'city_Barcelona',\n",
       "       'city_Barnsley', 'city_Barranquilla', 'city_Barrie', 'city_Bath',\n",
       "       'city_Beijing', 'city_Belagavi', 'city_Bellevue',\n",
       "       'city_Bellflower', 'city_Bellingham', 'city_Bengaluru',\n",
       "       'city_Berkeley', 'city_Berlin', 'city_Bhubaneswar', 'city_Bilbao',\n",
       "       'city_Birmingham', 'city_Boardman', 'city_Bogota', 'city_Boise',\n",
       "       'city_Bordeaux', 'city_Boston', 'city_Bothell', 'city_Boulder',\n",
       "       'city_Bournemouth', 'city_Bozeman', 'city_Brampton',\n",
       "       'city_Bratislava', 'city_Breda', 'city_Bremen', 'city_Brest',\n",
       "       'city_Brisbane', 'city_Brno', 'city_Brookline', 'city_Brussels',\n",
       "       'city_Bucharest', 'city_Budapest', 'city_Buenos Aires',\n",
       "       'city_Burlington', 'city_Burnaby', 'city_Cagliari', 'city_Cairo',\n",
       "       'city_Calgary', 'city_Cali', 'city_Cambridge', 'city_Camden',\n",
       "       'city_Campinas', 'city_Canterbury', 'city_Cape Town',\n",
       "       'city_Caracas', 'city_Carrollton', 'city_Casablanca',\n",
       "       'city_Chamblee', 'city_Chandigarh', 'city_Charlotte',\n",
       "       'city_Charlottesville', 'city_Chennai', 'city_Chevilly Larue',\n",
       "       'city_Chicago', 'city_Chico', 'city_Chisinau', 'city_Chiyoda',\n",
       "       'city_Chuo', 'city_Cincinnati', 'city_Ciudad Real',\n",
       "       'city_Clermont-Ferrand', 'city_Coffeyville', 'city_College Park',\n",
       "       'city_Collegeville', 'city_Cologne', 'city_Colombo',\n",
       "       'city_Columbus', 'city_Copenhagen', 'city_Cork',\n",
       "       'city_Council Bluffs', 'city_Courbevoie', 'city_Cupertino',\n",
       "       'city_Curitiba', 'city_Cyberjaya', 'city_Dahlonega', 'city_Dallas',\n",
       "       'city_Decin', 'city_Denver', 'city_Detroit', 'city_Dubai',\n",
       "       'city_Dublin', 'city_Dundalk', 'city_Dusseldorf',\n",
       "       'city_East Lansing', 'city_Eau Claire', 'city_Edmonton',\n",
       "       'city_Egham', 'city_Eindhoven', 'city_El Paso', 'city_Elche',\n",
       "       'city_Erode', 'city_Evanston', 'city_Fareham',\n",
       "       'city_Farmington Hills', 'city_Faro', 'city_Fort Collins',\n",
       "       'city_Frankfurt', 'city_Fremont', 'city_Fresno', 'city_Fukui',\n",
       "       'city_Furth', 'city_Geneva', 'city_Ghent', 'city_Gijon',\n",
       "       'city_Glasgow', 'city_Goose Creek', 'city_Gothenburg',\n",
       "       'city_Greystones', 'city_Groningen', 'city_Guatemala City',\n",
       "       'city_Gurgaon', 'city_Guwahati', 'city_Hallein', 'city_Hamburg',\n",
       "       'city_Hangzhou', 'city_Hanoi', 'city_Hayward', 'city_Helsinki',\n",
       "       'city_Herzliya', 'city_Ho Chi Minh City', 'city_Hong Kong',\n",
       "       'city_Honolulu', 'city_Houston', 'city_Hradec Kralove',\n",
       "       'city_Hyderabad', 'city_Iasi', 'city_Indianapolis', 'city_Indore',\n",
       "       'city_Ipoh', 'city_Irvine', 'city_Issy-les-Moulineaux',\n",
       "       'city_Istanbul', 'city_Izmir', 'city_Jacksonville', 'city_Jaipur',\n",
       "       'city_Jakarta', 'city_Jeddah', 'city_Jersey City',\n",
       "       'city_Johnson City', 'city_Kalamazoo', 'city_Kampar',\n",
       "       'city_Kansas City', 'city_Karachi', 'city_Katowice',\n",
       "       'city_Kharagpur', 'city_Kiev', 'city_Kirkland', 'city_Kitchener',\n",
       "       'city_Kochi', 'city_Kolkata', 'city_Kosice', 'city_Koszalin',\n",
       "       'city_Krakow', 'city_Kuala Lumpur', 'city_Kumamoto',\n",
       "       'city_La Victoria', 'city_Lagos', 'city_Laguna Beach',\n",
       "       'city_Lahore', 'city_Lake Oswego', 'city_Lausanne',\n",
       "       'city_Lawrence Township', 'city_Leeds', 'city_Lehi', 'city_Lenoir',\n",
       "       'city_Leusden', 'city_Leuven', 'city_Lewisville', 'city_Lexington',\n",
       "       'city_Lille', 'city_Lincoln', 'city_Lisbon', 'city_Liverpool',\n",
       "       'city_London', 'city_Los Angeles', 'city_Louisville',\n",
       "       'city_Lucknow', 'city_Lyon', 'city_Madison', 'city_Madrid',\n",
       "       'city_Makassar', 'city_Makati', 'city_Malaga', 'city_Manaus',\n",
       "       'city_Manchester', 'city_Maracaibo', 'city_Marlboro',\n",
       "       'city_McAllen', 'city_Mechelen', 'city_Medellin', 'city_Medina',\n",
       "       'city_Melbourne', 'city_Menlo Park', 'city_Metz',\n",
       "       'city_Mexico City', 'city_Miami', 'city_Milan', 'city_Milpitas',\n",
       "       'city_Minato', 'city_Minneapolis', 'city_Minsk',\n",
       "       'city_Minxiong Township', 'city_Mississauga', 'city_Miyazaki',\n",
       "       'city_Monterrey', 'city_Montevideo', 'city_Montigny-le-Bretonneux',\n",
       "       'city_Montreal', 'city_Moscow', 'city_Mountain View',\n",
       "       'city_Mumbai', 'city_Munich', 'city_Naha', 'city_Nairobi',\n",
       "       'city_Nantes', 'city_Naples', 'city_Nashville', 'city_Navi Mumbai',\n",
       "       'city_Neipu Township', 'city_New Delhi', 'city_New Orleans',\n",
       "       'city_New York', 'city_Newark', 'city_Ningbo', 'city_Noida',\n",
       "       'city_North Richland Hills', 'city_Nottingham', 'city_Oakland',\n",
       "       'city_Omaha', 'city_Oneonta', 'city_Orem', 'city_Orlando',\n",
       "       'city_Osaka', 'city_Oshkosh', 'city_Osijek', 'city_Oslo',\n",
       "       'city_Ostrava', 'city_Ottawa', 'city_Oude Meer',\n",
       "       'city_Overland Park', 'city_Oviedo', 'city_Oxford', 'city_Padua',\n",
       "       'city_Palo Alto', 'city_Panama City', 'city_Paris', 'city_Patna',\n",
       "       'city_Perth', 'city_Petaling Jaya', 'city_Philadelphia',\n",
       "       'city_Phoenix', 'city_Piscataway Township', 'city_Pittsburgh',\n",
       "       'city_Plano', 'city_Pleasanton', 'city_Portland',\n",
       "       'city_Porto Alegre', 'city_Poznan', 'city_Pozuelo de Alarcon',\n",
       "       'city_Prague', 'city_Prato', 'city_Pryor', 'city_Pueblo',\n",
       "       'city_Pune', 'city_Quebec City', 'city_Quezon City',\n",
       "       'city_Quimper', 'city_Raleigh', 'city_Ramat Gan', 'city_Randburg',\n",
       "       'city_Redmond', 'city_Redwood City', 'city_Rexburg',\n",
       "       'city_Richardson', 'city_Ridgewood', 'city_Riga',\n",
       "       'city_Rio de Janeiro', 'city_Riyadh', 'city_Rome', 'city_Rosario',\n",
       "       'city_Rotterdam', 'city_Sabadell', 'city_Sacramento',\n",
       "       'city_Saint Petersburg', \"city_Saint-Ouen-l'Aumone\", 'city_Sakai',\n",
       "       'city_Salem', 'city_Salford', 'city_Salt Lake City',\n",
       "       'city_Salzburg', 'city_San Antonio', 'city_San Bruno',\n",
       "       'city_San Diego', 'city_San Francisco', 'city_San Jose',\n",
       "       'city_San Marcos', 'city_San Mateo', 'city_San Salvador',\n",
       "       'city_Sandy Springs', 'city_Sant Cugat del Valles',\n",
       "       'city_Santa Ana', 'city_Santa Clara', 'city_Santa Fe',\n",
       "       'city_Santa Monica', 'city_Santiago', 'city_Santiago de Surco',\n",
       "       'city_Sao Paulo', 'city_Schagen', 'city_Seattle', 'city_Seoul',\n",
       "       'city_Seville', 'city_Shanghai', 'city_Sheffield',\n",
       "       'city_Sherbrooke', 'city_Shibuya', 'city_Shinjuku',\n",
       "       'city_Shiocton', 'city_Singapore', 'city_Skopje', 'city_Smyrna',\n",
       "       'city_Sofia', 'city_South San Francisco', 'city_Springfield',\n",
       "       'city_St. Louis', 'city_Stanford', 'city_Stockholm',\n",
       "       'city_Stuttgart', 'city_Subang Jaya', 'city_Sunnyvale',\n",
       "       'city_Surabaya', 'city_Sydney', 'city_Szczecin', 'city_Taguig',\n",
       "       'city_Tallahassee', 'city_Tallinn', 'city_Tampa',\n",
       "       'city_Taoyuan District', 'city_Tbilisi', 'city_Tel Aviv-Yafo',\n",
       "       'city_Tempe', 'city_The Hague', 'city_Thessaloniki',\n",
       "       'city_Thornton', 'city_Tigard', 'city_Toronto', 'city_Towson',\n",
       "       'city_Tucson', 'city_Tunis', 'city_Turin', 'city_University Park',\n",
       "       'city_Utrecht', 'city_Valencia', 'city_Valparaiso',\n",
       "       'city_Vancouver', 'city_Vienna', 'city_Villafranca del Castillo',\n",
       "       'city_Villanova', \"city_Villeneuve-d'Ascq\", 'city_Vilnius',\n",
       "       'city_Vincennes', 'city_Warsaw', 'city_Washington', 'city_Watford',\n",
       "       'city_Wellesley', 'city_Westlake Village', 'city_Westville',\n",
       "       'city_Wheeling', 'city_White Plains', 'city_Whitewater',\n",
       "       'city_Woodbridge Township', 'city_Wrexham', 'city_Wroclaw',\n",
       "       'city_Yokohama', 'city_Zagreb', 'city_Zaoqiao Township',\n",
       "       'city_Zaragoza', 'city_Zhongli District', 'city_Zhudong Township',\n",
       "       'city_Zurich', 'city_not available in demo dataset'], dtype=object)"
      ]
     },
     "execution_count": 25,
     "metadata": {},
     "output_type": "execute_result"
    }
   ],
   "source": [
    "df_final=df[to_keep]\n",
    "df_final.columns.values"
   ]
  },
  {
   "cell_type": "markdown",
   "metadata": {},
   "source": [
    "### Oversampling Using SMOTE"
   ]
  },
  {
   "cell_type": "markdown",
   "metadata": {},
   "source": [
    "###### oversampling was used to take care of the massive class imbalance in the target variable"
   ]
  },
  {
   "cell_type": "code",
   "execution_count": 26,
   "metadata": {},
   "outputs": [
    {
     "name": "stdout",
     "output_type": "stream",
     "text": [
      "length of oversampled data is  542580\n",
      "Number of no transactions in oversampled data 271290\n",
      "Number of transactions 271290\n",
      "Proportion of no transactions data in oversampled data is  0.5\n",
      "Proportion of transaction data in oversampled data is  0.5\n"
     ]
    }
   ],
   "source": [
    "X = df_final.loc[:, df_final.columns != 'conversion']\n",
    "y = df_final.loc[:, df_final.columns == 'conversion']\n",
    "from imblearn import under_sampling, over_sampling\n",
    "from imblearn.over_sampling import SMOTE\n",
    "os = SMOTE(random_state=0)\n",
    "X_train, X_test, y_train, y_test = train_test_split(X, y, test_size=0.3, random_state=0)\n",
    "columns = X_train.columns\n",
    "os_df_X,os_df_y=os.fit_resample(X_train, y_train)\n",
    "os_df_X = pd.DataFrame(data=os_df_X,columns=columns )\n",
    "os_df_y= pd.DataFrame(data=os_df_y,columns=['conversion'])\n",
    "# we can Check the numbers of our data\n",
    "print(\"length of oversampled data is \",len(os_df_X))\n",
    "print(\"Number of no transactions in oversampled data\",len(os_df_y[os_df_y['conversion']==0]))\n",
    "print(\"Number of transactions\",len(os_df_y[os_df_y['conversion']==1]))\n",
    "print(\"Proportion of no transactions data in oversampled data is \",len(os_df_y[os_df_y['conversion']==0])/len(os_df_X))\n",
    "print(\"Proportion of transaction data in oversampled data is \",len(os_df_y[os_df_y['conversion']==1])/len(os_df_X))"
   ]
  },
  {
   "cell_type": "markdown",
   "metadata": {},
   "source": [
    "#### Recursive Feature Elimination(RFE)\n",
    "\n",
    "RFE is based on the idea to repeatedly construct a model and choose either the best or worst performing feature, setting the feature aside and then repeating the process with the rest of the features. This process is applied until all features in the dataset are exhausted. The goal of RFE is to select features by recursively considering smaller and smaller sets of features."
   ]
  },
  {
   "cell_type": "code",
   "execution_count": null,
   "metadata": {},
   "outputs": [
    {
     "name": "stderr",
     "output_type": "stream",
     "text": [
      "C:\\Users\\MAIN\\AnacondaProjects\\lib\\site-packages\\sklearn\\utils\\validation.py:72: FutureWarning: Pass n_features_to_select=3 as keyword args. From version 1.0 (renaming of 0.25) passing these as positional arguments will result in an error\n",
      "  \"will result in an error\", FutureWarning)\n"
     ]
    }
   ],
   "source": [
    "df_final_vars=df_final.columns.values.tolist()\n",
    "y=['conversion']\n",
    "X=[i for i in df_final_vars if i not in y]\n",
    "\n",
    "from sklearn.feature_selection import RFE\n",
    "from sklearn.linear_model import LogisticRegression\n",
    "\n",
    "logreg = LogisticRegression()\n",
    "\n",
    "rfe = RFE(logreg, 3)\n",
    "rfe = rfe.fit(os_df_X, os_df_y.values.ravel())\n",
    "print(rfe.support_)\n",
    "print(rfe.ranking_)"
   ]
  },
  {
   "cell_type": "code",
   "execution_count": 1,
   "metadata": {},
   "outputs": [
    {
     "ename": "NameError",
     "evalue": "name 'os_data_X' is not defined",
     "output_type": "error",
     "traceback": [
      "\u001b[1;31m---------------------------------------------------------------------------\u001b[0m",
      "\u001b[1;31mNameError\u001b[0m                                 Traceback (most recent call last)",
      "\u001b[1;32m<ipython-input-1-b4a691d0f3bf>\u001b[0m in \u001b[0;36m<module>\u001b[1;34m\u001b[0m\n\u001b[0;32m      2\u001b[0m       \u001b[1;34m'contact_cellular'\u001b[0m\u001b[1;33m,\u001b[0m \u001b[1;34m'contact_telephone'\u001b[0m\u001b[1;33m,\u001b[0m \u001b[1;34m'month_apr'\u001b[0m\u001b[1;33m,\u001b[0m \u001b[1;34m'month_aug'\u001b[0m\u001b[1;33m,\u001b[0m \u001b[1;34m'month_dec'\u001b[0m\u001b[1;33m,\u001b[0m \u001b[1;34m'month_jul'\u001b[0m\u001b[1;33m,\u001b[0m \u001b[1;34m'month_jun'\u001b[0m\u001b[1;33m,\u001b[0m \u001b[1;34m'month_mar'\u001b[0m\u001b[1;33m,\u001b[0m\u001b[1;33m\u001b[0m\u001b[1;33m\u001b[0m\u001b[0m\n\u001b[0;32m      3\u001b[0m       'month_may', 'month_nov', 'month_oct', \"poutcome_failure\", \"poutcome_success\"] \n\u001b[1;32m----> 4\u001b[1;33m \u001b[0mX\u001b[0m\u001b[1;33m=\u001b[0m\u001b[0mos_data_X\u001b[0m\u001b[1;33m[\u001b[0m\u001b[0mcols\u001b[0m\u001b[1;33m]\u001b[0m\u001b[1;33m\u001b[0m\u001b[1;33m\u001b[0m\u001b[0m\n\u001b[0m\u001b[0;32m      5\u001b[0m \u001b[0my\u001b[0m\u001b[1;33m=\u001b[0m\u001b[0mos_data_y\u001b[0m\u001b[1;33m[\u001b[0m\u001b[1;34m'y'\u001b[0m\u001b[1;33m]\u001b[0m\u001b[1;33m\u001b[0m\u001b[1;33m\u001b[0m\u001b[0m\n",
      "\u001b[1;31mNameError\u001b[0m: name 'os_data_X' is not defined"
     ]
    }
   ],
   "source": [
    "cols=['euribor3m', 'job_blue-collar', 'job_housemaid', 'marital_unknown', 'education_illiterate', 'default_no', 'default_unknown', \n",
    "      'contact_cellular', 'contact_telephone', 'month_apr', 'month_aug', 'month_dec', 'month_jul', 'month_jun', 'month_mar', \n",
    "      'month_may', 'month_nov', 'month_oct', \"poutcome_failure\", \"poutcome_success\"] \n",
    "X=os_data_X[cols]\n",
    "y=os_data_y['y']"
   ]
  },
  {
   "cell_type": "markdown",
   "metadata": {},
   "source": [
    "#### Implementing the Model"
   ]
  },
  {
   "cell_type": "code",
   "execution_count": null,
   "metadata": {},
   "outputs": [],
   "source": [
    "import statsmodels.api as sm\n",
    "logit_model=sm.Logit(y,X)\n",
    "result=logit_model.fit()\n",
    "print(result.summary2())"
   ]
  },
  {
   "cell_type": "code",
   "execution_count": null,
   "metadata": {},
   "outputs": [],
   "source": [
    "cols=['euribor3m', 'job_blue-collar', 'job_housemaid', 'marital_unknown', 'education_illiterate', \n",
    "      'month_apr', 'month_aug', 'month_dec', 'month_jul', 'month_jun', 'month_mar', \n",
    "      'month_may', 'month_nov', 'month_oct', \"poutcome_failure\", \"poutcome_success\"] \n",
    "X=os_data_X[cols]\n",
    "y=os_data_y['y']\n",
    "logit_model=sm.Logit(y,X)\n",
    "result=logit_model.fit()\n",
    "print(result.summary2())"
   ]
  },
  {
   "cell_type": "markdown",
   "metadata": {},
   "source": [
    "#### Logistic Regression Model Fitting"
   ]
  },
  {
   "cell_type": "code",
   "execution_count": null,
   "metadata": {},
   "outputs": [],
   "source": [
    "from sklearn.linear_model import LogisticRegression\n",
    "from sklearn import metrics\n",
    "X_train, X_test, y_train, y_test = train_test_split(X, y, test_size=0.3, random_state=0)\n",
    "logreg = LogisticRegression()\n",
    "logreg.fit(X_train, y_train)"
   ]
  },
  {
   "cell_type": "markdown",
   "metadata": {},
   "source": [
    "#### predict Test result and calculate Accuracy"
   ]
  },
  {
   "cell_type": "code",
   "execution_count": null,
   "metadata": {},
   "outputs": [],
   "source": [
    "y_pred = logreg.predict(X_test)\n",
    "print('Accuracy of logistic regression classifier on test set: {:.2f}'.format(logreg.score(X_test, y_test)))"
   ]
  },
  {
   "cell_type": "markdown",
   "metadata": {},
   "source": [
    "#### Confusion Matrix"
   ]
  },
  {
   "cell_type": "code",
   "execution_count": null,
   "metadata": {},
   "outputs": [],
   "source": [
    "from sklearn.metrics import confusion_matrix\n",
    "confusion_matrix = confusion_matrix(y_test, y_pred)\n",
    "print(confusion_matrix)"
   ]
  },
  {
   "cell_type": "markdown",
   "metadata": {},
   "source": [
    "#### compute Precision, Recall, F1-score"
   ]
  },
  {
   "cell_type": "code",
   "execution_count": null,
   "metadata": {},
   "outputs": [],
   "source": [
    "from sklearn.metrics import classification_report\n",
    "print(classification_report(y_test, y_pred))"
   ]
  },
  {
   "cell_type": "markdown",
   "metadata": {},
   "source": [
    "#### ROC Curve"
   ]
  },
  {
   "cell_type": "code",
   "execution_count": null,
   "metadata": {},
   "outputs": [],
   "source": [
    "from sklearn.metrics import roc_auc_score\n",
    "from sklearn.metrics import roc_curve\n",
    "logit_roc_auc = roc_auc_score(y_test, logreg.predict(X_test))\n",
    "fpr, tpr, thresholds = roc_curve(y_test, logreg.predict_proba(X_test)[:,1])\n",
    "plt.figure()\n",
    "plt.plot(fpr, tpr, label='Logistic Regression (area = %0.2f)' % logit_roc_auc)\n",
    "plt.plot([0, 1], [0, 1],'r--')\n",
    "plt.xlim([0.0, 1.0])\n",
    "plt.ylim([0.0, 1.05])\n",
    "plt.xlabel('False Positive Rate')\n",
    "plt.ylabel('True Positive Rate')\n",
    "plt.title('Receiver operating characteristic')\n",
    "plt.legend(loc=\"lower right\")\n",
    "plt.savefig('Log_ROC')\n",
    "plt.show()"
   ]
  },
  {
   "cell_type": "code",
   "execution_count": null,
   "metadata": {},
   "outputs": [],
   "source": []
  },
  {
   "cell_type": "code",
   "execution_count": null,
   "metadata": {},
   "outputs": [],
   "source": []
  },
  {
   "cell_type": "code",
   "execution_count": null,
   "metadata": {},
   "outputs": [],
   "source": [
    "#split data into X and Y\n",
    "X=df.drop(['conversion'],axis=1)\n",
    "y=df.conversion"
   ]
  },
  {
   "cell_type": "code",
   "execution_count": null,
   "metadata": {},
   "outputs": [],
   "source": [
    "#Use Pearson Correlation to drop features from the X independent variables\n",
    "plt.figure(figsize=(12,10))\n",
    "cor = X.corr()\n",
    "sns.heatmap(cor, annot=True, cmap=plt.cm.CMRmap_r)\n",
    "plt.show()"
   ]
  },
  {
   "cell_type": "code",
   "execution_count": null,
   "metadata": {},
   "outputs": [],
   "source": [
    "#with the following function we select highly correlated features and remove the first feature that is correlated with any other feature\n",
    "def correlation(dataset, threshold):\n",
    "    col_corr = set()  # Set of all the names of correlated columns\n",
    "    corr_matrix = dataset.corr()\n",
    "    for i in range(len(corr_matrix.columns)):\n",
    "        for j in range(i):\n",
    "            if abs(corr_matrix.iloc[i, j]) > threshold: # we are interested in absolute coeff value\n",
    "                colname = corr_matrix.columns[i]  # getting the name of column\n",
    "                col_corr.add(colname)\n",
    "    return col_corr"
   ]
  },
  {
   "cell_type": "code",
   "execution_count": null,
   "metadata": {},
   "outputs": [],
   "source": [
    "corr_features = correlation(X, 0.70)\n",
    "len(set(corr_features))"
   ]
  },
  {
   "cell_type": "code",
   "execution_count": null,
   "metadata": {},
   "outputs": [],
   "source": [
    "corr_features"
   ]
  },
  {
   "cell_type": "code",
   "execution_count": null,
   "metadata": {},
   "outputs": [],
   "source": [
    "X = X.drop(corr_features,axis=1)"
   ]
  },
  {
   "cell_type": "code",
   "execution_count": null,
   "metadata": {},
   "outputs": [],
   "source": [
    "X.dtypes"
   ]
  },
  {
   "cell_type": "code",
   "execution_count": null,
   "metadata": {},
   "outputs": [],
   "source": [
    "#import normalisation package for scaling and sacle the independent variables\n",
    "from sklearn.preprocessing import StandardScaler\n",
    "sc = StandardScaler()\n",
    "X = sc.fit_transform(X)"
   ]
  },
  {
   "cell_type": "code",
   "execution_count": null,
   "metadata": {},
   "outputs": [],
   "source": [
    "#split train and test sets\n",
    "from sklearn.model_selection import train_test_split\n",
    "X_train, X_test, y_train, y_test = train_test_split(X, y, test_size=0.3, random_state=0)\n",
    "X_train.shape, X_test.shape"
   ]
  },
  {
   "cell_type": "code",
   "execution_count": null,
   "metadata": {},
   "outputs": [],
   "source": [
    "#import Classifiers\n",
    "from sklearn.linear_model import LogisticRegression\n",
    "from sklearn.ensemble import RandomForestClassifier\n",
    "from sklearn.svm import SVC\n",
    "from sklearn.model_selection import GridSearchCV"
   ]
  },
  {
   "cell_type": "code",
   "execution_count": null,
   "metadata": {},
   "outputs": [],
   "source": [
    "LogR = LogisticRegression()\n",
    "RanR = RandomForestClassifier()\n",
    "svC = SVC(kernel='rbf')"
   ]
  },
  {
   "cell_type": "code",
   "execution_count": null,
   "metadata": {},
   "outputs": [],
   "source": [
    "#train our classifier\n",
    "LogR.fit(X_train,y_train)\n",
    "RanR.fit(X_train,y_train)\n",
    "svC.fit(X_train,y_train)"
   ]
  },
  {
   "cell_type": "code",
   "execution_count": null,
   "metadata": {},
   "outputs": [],
   "source": [
    "#predictions for test\n",
    "y_pred1 = LogR.predict(X_test)\n",
    "y_pred2 = RanR.predict(X_test)\n",
    "y_pred3 = svC.predict(X_test)"
   ]
  },
  {
   "cell_type": "markdown",
   "metadata": {},
   "source": [
    "### Evaluation"
   ]
  },
  {
   "cell_type": "code",
   "execution_count": null,
   "metadata": {},
   "outputs": [],
   "source": [
    "#check accuracy. Classifier performance on test\n",
    "print(LogR.score(X_test,y_test))\n",
    "print(RanR.score(X_test,y_test))\n",
    "print(svC.score(X_test,y_test))"
   ]
  },
  {
   "cell_type": "code",
   "execution_count": null,
   "metadata": {},
   "outputs": [],
   "source": [
    "#import performance measure tools and check confusion matrix\n",
    "from sklearn.metrics import accuracy_score, f1_score, confusion_matrix, recall_score, precision_score\n",
    "cm1 = confusion_matrix(y_test,y_pred1)\n",
    "cm2 = confusion_matrix(y_test,y_pred2)\n",
    "cm3 = confusion_matrix(y_test,y_pred3)"
   ]
  },
  {
   "cell_type": "code",
   "execution_count": null,
   "metadata": {},
   "outputs": [],
   "source": [
    "from sklearn.metrics import classification_report\n",
    "print(classification_report(y_test,y_pred1))"
   ]
  },
  {
   "cell_type": "code",
   "execution_count": null,
   "metadata": {},
   "outputs": [],
   "source": [
    "from sklearn.metrics import classification_report\n",
    "print(classification_report(y_test,y_pred2))"
   ]
  },
  {
   "cell_type": "code",
   "execution_count": null,
   "metadata": {},
   "outputs": [],
   "source": [
    "from sklearn.metrics import classification_report\n",
    "print(classification_report(y_test,y_pred3))"
   ]
  },
  {
   "cell_type": "code",
   "execution_count": null,
   "metadata": {},
   "outputs": [],
   "source": [
    "#check Gridsearch for model2 = RandomForest\n",
    "param_dict= {'n_estimators':range(2,10), 'max_depth':range(1,10)}\n",
    "model = GridSearchCV(RanR,param_dict)\n",
    "model.fit(X_train,y_train)\n",
    "\n",
    "model.score(X_test,y_test)\n",
    "model.best_params_"
   ]
  }
 ],
 "metadata": {
  "kernelspec": {
   "display_name": "Python 3",
   "language": "python",
   "name": "python3"
  },
  "language_info": {
   "codemirror_mode": {
    "name": "ipython",
    "version": 3
   },
   "file_extension": ".py",
   "mimetype": "text/x-python",
   "name": "python",
   "nbconvert_exporter": "python",
   "pygments_lexer": "ipython3",
   "version": "3.7.3"
  }
 },
 "nbformat": 4,
 "nbformat_minor": 2
}
